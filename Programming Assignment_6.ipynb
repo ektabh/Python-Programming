{
 "cells": [
  {
   "cell_type": "markdown",
   "id": "846b2afb",
   "metadata": {},
   "source": [
    "# 1.\tWrite a Python Program to Display Fibonacci Sequence Using Recursion?"
   ]
  },
  {
   "cell_type": "code",
   "execution_count": 46,
   "id": "f22a97f9",
   "metadata": {
    "scrolled": true
   },
   "outputs": [],
   "source": [
    "n=8\n",
    "def fib(n):\n",
    "    if(n <= 1):\n",
    "        return n\n",
    "    else:\n",
    "        return(fib(n-1) + fib(n-2))"
   ]
  },
  {
   "cell_type": "code",
   "execution_count": 47,
   "id": "63e4c811",
   "metadata": {},
   "outputs": [
    {
     "name": "stdout",
     "output_type": "stream",
     "text": [
      "0\n",
      "1\n",
      "1\n",
      "2\n",
      "3\n",
      "5\n",
      "8\n",
      "13\n"
     ]
    }
   ],
   "source": [
    "for i in range(n):\n",
    "    print(fib(i))"
   ]
  },
  {
   "cell_type": "markdown",
   "id": "52dfcef8",
   "metadata": {},
   "source": [
    "# 2.\tWrite a Python Program to Find Factorial of Number Using Recursion?"
   ]
  },
  {
   "cell_type": "code",
   "execution_count": 40,
   "id": "398a0a4e",
   "metadata": {},
   "outputs": [],
   "source": [
    "def fact_rec(n):\n",
    "    if n==1:\n",
    "        return n\n",
    "    else:\n",
    "        return (n*(fact_rec(n-1)))"
   ]
  },
  {
   "cell_type": "code",
   "execution_count": 42,
   "id": "48e532a7",
   "metadata": {},
   "outputs": [
    {
     "data": {
      "text/plain": [
       "6"
      ]
     },
     "execution_count": 42,
     "metadata": {},
     "output_type": "execute_result"
    }
   ],
   "source": [
    "fact_rec(3)"
   ]
  },
  {
   "cell_type": "markdown",
   "id": "05c43da9",
   "metadata": {},
   "source": [
    "# 3.\tWrite a Python Program to calculate your Body Mass Index?"
   ]
  },
  {
   "cell_type": "code",
   "execution_count": 13,
   "id": "28bffaaf",
   "metadata": {},
   "outputs": [],
   "source": [
    "def BMI(height, weight):\n",
    "    BMI = weight/(height**2)\n",
    "    return BMI"
   ]
  },
  {
   "cell_type": "code",
   "execution_count": 14,
   "id": "034b787b",
   "metadata": {},
   "outputs": [],
   "source": [
    "## weight in kg and height in meter"
   ]
  },
  {
   "cell_type": "code",
   "execution_count": 15,
   "id": "abd78aa9",
   "metadata": {},
   "outputs": [
    {
     "data": {
      "text/plain": [
       "0.004914933837429111"
      ]
     },
     "execution_count": 15,
     "metadata": {},
     "output_type": "execute_result"
    }
   ],
   "source": [
    "BMI(115, 65)"
   ]
  },
  {
   "cell_type": "markdown",
   "id": "5566c89e",
   "metadata": {},
   "source": [
    "# 4.\tWrite a Python Program to calculate the natural logarithm of any number?"
   ]
  },
  {
   "cell_type": "code",
   "execution_count": 7,
   "id": "214597da",
   "metadata": {},
   "outputs": [],
   "source": [
    "import numpy as np"
   ]
  },
  {
   "cell_type": "code",
   "execution_count": 8,
   "id": "08be2e28",
   "metadata": {},
   "outputs": [
    {
     "name": "stdout",
     "output_type": "stream",
     "text": [
      "enter the no. 4\n"
     ]
    }
   ],
   "source": [
    "input = int(input(\"enter the no. \"))"
   ]
  },
  {
   "cell_type": "code",
   "execution_count": 11,
   "id": "063c1440",
   "metadata": {},
   "outputs": [
    {
     "name": "stdout",
     "output_type": "stream",
     "text": [
      "natural log of number4 is==> 1.3862943611198906\n"
     ]
    }
   ],
   "source": [
    "print(\"natural log of number{} is==>\".format(input), np.log(input))"
   ]
  },
  {
   "cell_type": "markdown",
   "id": "b3850269",
   "metadata": {},
   "source": [
    "# 5.\tWrite a Python Program for cube sum of first n natural numbers?"
   ]
  },
  {
   "cell_type": "code",
   "execution_count": 1,
   "id": "e5115b87",
   "metadata": {},
   "outputs": [
    {
     "name": "stdout",
     "output_type": "stream",
     "text": [
      "Enter the number: 5\n"
     ]
    }
   ],
   "source": [
    "n = int(input(\"Enter the number: \"))"
   ]
  },
  {
   "cell_type": "code",
   "execution_count": 6,
   "id": "eb57aa4b",
   "metadata": {},
   "outputs": [
    {
     "name": "stdout",
     "output_type": "stream",
     "text": [
      "cube of 1===> 1\n",
      "cube of 2===> 8\n",
      "cube of 3===> 27\n",
      "cube of 4===> 64\n",
      "cube of 5===> 125\n"
     ]
    }
   ],
   "source": [
    "for i in range(1,n+1):\n",
    "    sum= 0\n",
    "    print(\"cube of {}===>\".format(i),sum + i**3)"
   ]
  },
  {
   "cell_type": "code",
   "execution_count": null,
   "id": "3685ef37",
   "metadata": {},
   "outputs": [],
   "source": []
  }
 ],
 "metadata": {
  "kernelspec": {
   "display_name": "Python 3",
   "language": "python",
   "name": "python3"
  },
  "language_info": {
   "codemirror_mode": {
    "name": "ipython",
    "version": 3
   },
   "file_extension": ".py",
   "mimetype": "text/x-python",
   "name": "python",
   "nbconvert_exporter": "python",
   "pygments_lexer": "ipython3",
   "version": "3.8.8"
  }
 },
 "nbformat": 4,
 "nbformat_minor": 5
}
