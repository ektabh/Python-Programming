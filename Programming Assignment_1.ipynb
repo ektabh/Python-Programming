{
 "cells": [
  {
   "cell_type": "markdown",
   "id": "3748fa98",
   "metadata": {},
   "source": [
    "# 1.Write a Python program to print \"Hello Python\"?"
   ]
  },
  {
   "cell_type": "code",
   "execution_count": 2,
   "id": "e3a5babd",
   "metadata": {},
   "outputs": [
    {
     "name": "stdout",
     "output_type": "stream",
     "text": [
      "\"Hello Python\"\n"
     ]
    }
   ],
   "source": [
    "print('\"Hello Python\"')"
   ]
  },
  {
   "cell_type": "markdown",
   "id": "74741216",
   "metadata": {},
   "source": [
    "# 2.\tWrite a Python program to do arithmetical operations addition and division.?"
   ]
  },
  {
   "cell_type": "code",
   "execution_count": 14,
   "id": "8995aa88",
   "metadata": {},
   "outputs": [
    {
     "name": "stdout",
     "output_type": "stream",
     "text": [
      "Enter the number: 3\n",
      "Enter the number: 4\n"
     ]
    }
   ],
   "source": [
    "a= float(input(\"Enter the number: \"))\n",
    "b= float(input(\"Enter the number: \"))"
   ]
  },
  {
   "cell_type": "code",
   "execution_count": 19,
   "id": "dd8143c2",
   "metadata": {},
   "outputs": [
    {
     "data": {
      "text/plain": [
       "7.0"
      ]
     },
     "execution_count": 19,
     "metadata": {},
     "output_type": "execute_result"
    }
   ],
   "source": [
    "addition = a+b\n",
    "addition"
   ]
  },
  {
   "cell_type": "code",
   "execution_count": 20,
   "id": "51d7e08e",
   "metadata": {},
   "outputs": [
    {
     "data": {
      "text/plain": [
       "0.75"
      ]
     },
     "execution_count": 20,
     "metadata": {},
     "output_type": "execute_result"
    }
   ],
   "source": [
    "division = a/b\n",
    "division"
   ]
  },
  {
   "cell_type": "markdown",
   "id": "9aaf8f04",
   "metadata": {},
   "source": [
    "# 3.\tWrite a Python program to find the area of a triangle?"
   ]
  },
  {
   "cell_type": "code",
   "execution_count": 21,
   "id": "b421e438",
   "metadata": {},
   "outputs": [],
   "source": [
    "#Area of triangle is 1/2(base*height)"
   ]
  },
  {
   "cell_type": "code",
   "execution_count": 24,
   "id": "2388070f",
   "metadata": {},
   "outputs": [],
   "source": [
    "base= 12\n",
    "height= 2"
   ]
  },
  {
   "cell_type": "code",
   "execution_count": 27,
   "id": "b140cfa2",
   "metadata": {},
   "outputs": [
    {
     "data": {
      "text/plain": [
       "12.0"
      ]
     },
     "execution_count": 27,
     "metadata": {},
     "output_type": "execute_result"
    }
   ],
   "source": [
    "area= (base*height)/2\n",
    "area"
   ]
  },
  {
   "cell_type": "markdown",
   "id": "811940b0",
   "metadata": {},
   "source": [
    "# 4.\tWrite a Python program to swap two variables?"
   ]
  },
  {
   "cell_type": "code",
   "execution_count": 28,
   "id": "bed91d0c",
   "metadata": {},
   "outputs": [],
   "source": [
    "a= 3\n",
    "b= 4"
   ]
  },
  {
   "cell_type": "code",
   "execution_count": 32,
   "id": "1efd0daf",
   "metadata": {},
   "outputs": [],
   "source": [
    "#assign the value of a variable to new c variable and then assign b variable value to a and c variable value to b\n",
    "c=a\n",
    "a=b\n",
    "b=c\n"
   ]
  },
  {
   "cell_type": "code",
   "execution_count": 33,
   "id": "a9dcc978",
   "metadata": {},
   "outputs": [
    {
     "name": "stdout",
     "output_type": "stream",
     "text": [
      "4 3\n"
     ]
    }
   ],
   "source": [
    "print(a,b)"
   ]
  },
  {
   "cell_type": "markdown",
   "id": "ccf39a39",
   "metadata": {},
   "source": [
    "# 5.\tWrite a Python program to generate a random number?"
   ]
  },
  {
   "cell_type": "code",
   "execution_count": 34,
   "id": "47997ef6",
   "metadata": {},
   "outputs": [],
   "source": [
    "import random"
   ]
  },
  {
   "cell_type": "code",
   "execution_count": 35,
   "id": "2ba5b641",
   "metadata": {},
   "outputs": [],
   "source": [
    "a= random.random()"
   ]
  },
  {
   "cell_type": "code",
   "execution_count": 36,
   "id": "b0d96c2c",
   "metadata": {},
   "outputs": [
    {
     "data": {
      "text/plain": [
       "0.18019531730595784"
      ]
     },
     "execution_count": 36,
     "metadata": {},
     "output_type": "execute_result"
    }
   ],
   "source": [
    "a"
   ]
  },
  {
   "cell_type": "code",
   "execution_count": null,
   "id": "625cf4ec",
   "metadata": {},
   "outputs": [],
   "source": []
  }
 ],
 "metadata": {
  "kernelspec": {
   "display_name": "Python 3",
   "language": "python",
   "name": "python3"
  },
  "language_info": {
   "codemirror_mode": {
    "name": "ipython",
    "version": 3
   },
   "file_extension": ".py",
   "mimetype": "text/x-python",
   "name": "python",
   "nbconvert_exporter": "python",
   "pygments_lexer": "ipython3",
   "version": "3.8.8"
  }
 },
 "nbformat": 4,
 "nbformat_minor": 5
}
