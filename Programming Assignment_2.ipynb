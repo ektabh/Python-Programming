{
 "cells": [
  {
   "cell_type": "markdown",
   "id": "2d32b18c",
   "metadata": {},
   "source": [
    "# 1.\tWrite a Python program to convert kilometers to miles?"
   ]
  },
  {
   "cell_type": "code",
   "execution_count": 1,
   "id": "b5750289",
   "metadata": {},
   "outputs": [],
   "source": [
    "def unit_conv(km_unit):\n",
    "    miles= km_unit*0.6214\n",
    "    return miles"
   ]
  },
  {
   "cell_type": "code",
   "execution_count": 2,
   "id": "ea00f00e",
   "metadata": {},
   "outputs": [
    {
     "data": {
      "text/plain": [
       "2.1749"
      ]
     },
     "execution_count": 2,
     "metadata": {},
     "output_type": "execute_result"
    }
   ],
   "source": [
    "unit_conv(3.5)"
   ]
  },
  {
   "cell_type": "markdown",
   "id": "77daeda1",
   "metadata": {},
   "source": [
    "# 2.\tWrite a Python program to convert Celsius to Fahrenheit?"
   ]
  },
  {
   "cell_type": "code",
   "execution_count": 3,
   "id": "92e0e22f",
   "metadata": {},
   "outputs": [],
   "source": [
    "def cel_fah(temp_celsius):\n",
    "    fahrenheit= (9/5)*temp_celsius + 32\n",
    "    return fahrenheit"
   ]
  },
  {
   "cell_type": "code",
   "execution_count": 4,
   "id": "d699066a",
   "metadata": {},
   "outputs": [
    {
     "data": {
      "text/plain": [
       "93.2"
      ]
     },
     "execution_count": 4,
     "metadata": {},
     "output_type": "execute_result"
    }
   ],
   "source": [
    "cel_fah(34)"
   ]
  },
  {
   "cell_type": "markdown",
   "id": "e95fbe4c",
   "metadata": {},
   "source": [
    "# 3.\tWrite a Python program to display calendar?"
   ]
  },
  {
   "cell_type": "code",
   "execution_count": 7,
   "id": "7d2c9ebb",
   "metadata": {},
   "outputs": [],
   "source": [
    "import calendar"
   ]
  },
  {
   "cell_type": "code",
   "execution_count": 8,
   "id": "c900bf9b",
   "metadata": {},
   "outputs": [
    {
     "name": "stdout",
     "output_type": "stream",
     "text": [
      "Enter year want to see: 2021\n",
      "Enter month of that year want to see: 3\n"
     ]
    }
   ],
   "source": [
    "#to show the particular month and year calendar using user input\n",
    "yy = int(input(\"Enter year want to see: \"))\n",
    "mm = int(input(\"Enter month of that year want to see: \"))\n"
   ]
  },
  {
   "cell_type": "code",
   "execution_count": 9,
   "id": "e1b2dff4",
   "metadata": {},
   "outputs": [
    {
     "name": "stdout",
     "output_type": "stream",
     "text": [
      "     March 2021\n",
      "Mo Tu We Th Fr Sa Su\n",
      " 1  2  3  4  5  6  7\n",
      " 8  9 10 11 12 13 14\n",
      "15 16 17 18 19 20 21\n",
      "22 23 24 25 26 27 28\n",
      "29 30 31\n",
      "\n"
     ]
    }
   ],
   "source": [
    "print(calendar.month(yy, mm))"
   ]
  },
  {
   "cell_type": "markdown",
   "id": "13a4ca64",
   "metadata": {},
   "source": [
    "# 4.\tWrite a Python program to solve quadratic equation?"
   ]
  },
  {
   "cell_type": "code",
   "execution_count": 10,
   "id": "167e6044",
   "metadata": {},
   "outputs": [],
   "source": [
    "#quadratic equation is in the form of ax^2 + bx + c\n",
    "#So there are three cofficient we need to solve the quadratic equation\n",
    "#a,b,c are real number and a!= 0"
   ]
  },
  {
   "cell_type": "code",
   "execution_count": 10,
   "id": "f629608c",
   "metadata": {},
   "outputs": [],
   "source": [
    "import cmath\n",
    "def quad(a,b,c):\n",
    "    d= ((b*b) - (4*a*c))\n",
    "    sol1= ((-b+ cmath.sqrt(d))/(2*a))\n",
    "    sol2= ((-b- cmath.sqrt(d))/(2*a))\n",
    "    return sol1, sol2"
   ]
  },
  {
   "cell_type": "code",
   "execution_count": 11,
   "id": "c72c1246",
   "metadata": {},
   "outputs": [
    {
     "data": {
      "text/plain": [
       "((-2+0j), (-3+0j))"
      ]
     },
     "execution_count": 11,
     "metadata": {},
     "output_type": "execute_result"
    }
   ],
   "source": [
    "quad(1,5,6)"
   ]
  },
  {
   "cell_type": "markdown",
   "id": "bf12a35f",
   "metadata": {},
   "source": [
    "math library was just giving the real number\n",
    "cmath library gave the complex root"
   ]
  },
  {
   "cell_type": "markdown",
   "id": "61e67b3b",
   "metadata": {},
   "source": [
    "# 5.\tWrite a Python program to swap two variables without temp variable?"
   ]
  },
  {
   "cell_type": "code",
   "execution_count": 13,
   "id": "1a3e2cac",
   "metadata": {},
   "outputs": [
    {
     "name": "stdout",
     "output_type": "stream",
     "text": [
      "Enter first number: 1\n",
      "Enter second number: 2\n"
     ]
    }
   ],
   "source": [
    "a= int(input(\"Enter first number: \"))\n",
    "b= int(input(\"Enter second number: \"))"
   ]
  },
  {
   "cell_type": "code",
   "execution_count": 14,
   "id": "a4fcc225",
   "metadata": {},
   "outputs": [],
   "source": [
    "#swappingw without temp\n",
    "b,a= a,b"
   ]
  },
  {
   "cell_type": "code",
   "execution_count": 15,
   "id": "5bd79d43",
   "metadata": {},
   "outputs": [
    {
     "data": {
      "text/plain": [
       "1"
      ]
     },
     "execution_count": 15,
     "metadata": {},
     "output_type": "execute_result"
    }
   ],
   "source": [
    "b"
   ]
  },
  {
   "cell_type": "code",
   "execution_count": 16,
   "id": "28839e24",
   "metadata": {},
   "outputs": [
    {
     "data": {
      "text/plain": [
       "2"
      ]
     },
     "execution_count": 16,
     "metadata": {},
     "output_type": "execute_result"
    }
   ],
   "source": [
    "a"
   ]
  },
  {
   "cell_type": "code",
   "execution_count": null,
   "id": "e13d4cd3",
   "metadata": {},
   "outputs": [],
   "source": []
  }
 ],
 "metadata": {
  "kernelspec": {
   "display_name": "Python 3",
   "language": "python",
   "name": "python3"
  },
  "language_info": {
   "codemirror_mode": {
    "name": "ipython",
    "version": 3
   },
   "file_extension": ".py",
   "mimetype": "text/x-python",
   "name": "python",
   "nbconvert_exporter": "python",
   "pygments_lexer": "ipython3",
   "version": "3.8.8"
  }
 },
 "nbformat": 4,
 "nbformat_minor": 5
}
