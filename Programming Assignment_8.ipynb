{
 "cells": [
  {
   "cell_type": "markdown",
   "id": "846b2afb",
   "metadata": {},
   "source": [
    "# 1.\tWrite a Python Program to Add Two Matrices?"
   ]
  },
  {
   "cell_type": "code",
   "execution_count": 16,
   "id": "514e9bc8",
   "metadata": {},
   "outputs": [],
   "source": [
    "a= [[2,3,4], [3,4,5]]"
   ]
  },
  {
   "cell_type": "code",
   "execution_count": 17,
   "id": "045ea20d",
   "metadata": {},
   "outputs": [],
   "source": [
    "b= [[3,3,4], [3,3,5]]\n",
    "result= [[0,0,0], [0,0,0]]"
   ]
  },
  {
   "cell_type": "code",
   "execution_count": 18,
   "id": "7dc0eb36",
   "metadata": {},
   "outputs": [
    {
     "name": "stdout",
     "output_type": "stream",
     "text": [
      "[5, 6, 8]\n",
      "[6, 7, 10]\n"
     ]
    }
   ],
   "source": [
    "for i in range(len(a)):\n",
    "    for j in range(len(a[0])):\n",
    "        result[i][j] = a[i][j] + b[i][j]\n",
    "        \n",
    "for r in result:\n",
    "    print(r)\n",
    "\n"
   ]
  },
  {
   "cell_type": "markdown",
   "id": "495129c0",
   "metadata": {},
   "source": [
    "# 2.\tWrite a Python Program to Multiply Two Matrices?"
   ]
  },
  {
   "cell_type": "code",
   "execution_count": 19,
   "id": "54f11fa1",
   "metadata": {},
   "outputs": [
    {
     "name": "stdout",
     "output_type": "stream",
     "text": [
      "[6, 9, 16]\n",
      "[9, 12, 25]\n"
     ]
    }
   ],
   "source": [
    "for i in range(len(a)):\n",
    "    for j in range(len(a[0])):\n",
    "        result[i][j] = a[i][j] * b[i][j]\n",
    "        \n",
    "for r in result:\n",
    "    print(r)\n",
    "\n"
   ]
  },
  {
   "cell_type": "markdown",
   "id": "999a0786",
   "metadata": {},
   "source": [
    "# 3.\tWrite a Python Program to Transpose a Matrix?"
   ]
  },
  {
   "cell_type": "code",
   "execution_count": 20,
   "id": "011be1aa",
   "metadata": {},
   "outputs": [
    {
     "name": "stdout",
     "output_type": "stream",
     "text": [
      "[[1 2 3]\n",
      " [4 5 6]]\n",
      "[[1 4]\n",
      " [2 5]\n",
      " [3 6]]\n"
     ]
    }
   ],
   "source": [
    "import numpy as np\n",
    "matrix = np.array([[1,2,3],[4,5,6]])\n",
    "print(matrix)\n",
    "print(matrix.T)"
   ]
  },
  {
   "cell_type": "markdown",
   "id": "982d27c3",
   "metadata": {},
   "source": [
    "# 4.\tWrite a Python Program to Sort Words in Alphabetic Order?"
   ]
  },
  {
   "cell_type": "code",
   "execution_count": 8,
   "id": "70c5faa4",
   "metadata": {},
   "outputs": [
    {
     "name": "stdout",
     "output_type": "stream",
     "text": [
      "stringapple boy egg ant\n",
      "ant\n",
      "apple\n",
      "boy\n",
      "egg\n"
     ]
    }
   ],
   "source": [
    "user_entry = input('string')\n",
    "\n",
    "word = user_entry.split()\n",
    "word.sort()\n",
    "\n",
    "for i in word:\n",
    "    print(i)"
   ]
  },
  {
   "cell_type": "markdown",
   "id": "9697f555",
   "metadata": {},
   "source": [
    "# 5.\tWrite a Python Program to Remove Punctuation From a String?"
   ]
  },
  {
   "cell_type": "code",
   "execution_count": 5,
   "id": "696986e4",
   "metadata": {},
   "outputs": [],
   "source": [
    "punctuations = '''{}/!@#$%^&*()_--'''"
   ]
  },
  {
   "cell_type": "code",
   "execution_count": 6,
   "id": "ca799a57",
   "metadata": {},
   "outputs": [],
   "source": [
    "string = \"hello !@ --my $%name is __ekta\""
   ]
  },
  {
   "cell_type": "code",
   "execution_count": 7,
   "id": "94502f19",
   "metadata": {},
   "outputs": [
    {
     "name": "stdout",
     "output_type": "stream",
     "text": [
      "hello  my name is ekta\n"
     ]
    }
   ],
   "source": [
    "no_pinc = \"\"\n",
    "for i in string:\n",
    "    if i not in punctuations:\n",
    "        no_pinc = no_pinc + i\n",
    "print(no_pinc)"
   ]
  },
  {
   "cell_type": "code",
   "execution_count": null,
   "id": "32c20ac7",
   "metadata": {},
   "outputs": [],
   "source": []
  },
  {
   "cell_type": "code",
   "execution_count": null,
   "id": "a9230b95",
   "metadata": {},
   "outputs": [],
   "source": []
  }
 ],
 "metadata": {
  "kernelspec": {
   "display_name": "Python 3",
   "language": "python",
   "name": "python3"
  },
  "language_info": {
   "codemirror_mode": {
    "name": "ipython",
    "version": 3
   },
   "file_extension": ".py",
   "mimetype": "text/x-python",
   "name": "python",
   "nbconvert_exporter": "python",
   "pygments_lexer": "ipython3",
   "version": "3.8.8"
  }
 },
 "nbformat": 4,
 "nbformat_minor": 5
}
